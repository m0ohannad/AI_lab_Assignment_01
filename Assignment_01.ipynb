{
  "nbformat": 4,
  "nbformat_minor": 0,
  "metadata": {
    "colab": {
      "name": "Assignment_01.ipynb",
      "provenance": [],
      "authorship_tag": "ABX9TyNLsyJW6TXeOvDMKx/hw07A",
      "include_colab_link": true
    },
    "kernelspec": {
      "name": "python3",
      "display_name": "Python 3"
    },
    "language_info": {
      "name": "python"
    }
  },
  "cells": [
    {
      "cell_type": "markdown",
      "metadata": {
        "id": "view-in-github",
        "colab_type": "text"
      },
      "source": [
        "<a href=\"https://colab.research.google.com/github/m0ohannad/AI_lab_Assignment_01/blob/main/Assignment_01.ipynb\" target=\"_parent\"><img src=\"https://colab.research.google.com/assets/colab-badge.svg\" alt=\"Open In Colab\"/></a>"
      ]
    },
    {
      "cell_type": "markdown",
      "metadata": {
        "id": "FJ-Akut6-ycL"
      },
      "source": [
        "# **Q1**\n",
        "\n",
        "\n"
      ]
    },
    {
      "cell_type": "markdown",
      "metadata": {
        "id": "sK2CYWgW_F1G"
      },
      "source": [
        "\n",
        "\n",
        "1. Assign the value **13.9** to a variable named **variable_a**.\n",
        "2. Assign the value **2.8** to a variable named **variable_b**.\n",
        "3. Round **variable_a** using the **`round()`** command, and assign back the rounded\n",
        "value to **variable_a**.\n",
        "4. Convert **variable_b** from a float to an integer using the **`int()`** command, and\n",
        "assign back the converted value to **variable_b**.\n",
        "5. Display **variable_a** and **variable_b** using the **`print()`** command.\n",
        "\n"
      ]
    },
    {
      "cell_type": "code",
      "metadata": {
        "colab": {
          "base_uri": "https://localhost:8080/"
        },
        "id": "_w7z2K---nX4",
        "outputId": "13f0946f-3bbf-4e16-9f1c-242bb87450c9"
      },
      "source": [
        "variable_a = 13.9\n",
        "variable_b = 2.8\n",
        "\n",
        "variable_a = round(variable_a)\n",
        "variable_b = int(variable_b)\n",
        "\n",
        "print(variable_a)\n",
        "print(variable_b)"
      ],
      "execution_count": 1,
      "outputs": [
        {
          "output_type": "stream",
          "text": [
            "14\n",
            "2\n"
          ],
          "name": "stdout"
        }
      ]
    },
    {
      "cell_type": "markdown",
      "metadata": {
        "id": "bNdwK4j4ByW-"
      },
      "source": [
        "# **Q2**"
      ]
    },
    {
      "cell_type": "markdown",
      "metadata": {
        "id": "MLqrzZGH_ALZ"
      },
      "source": [
        "\n",
        "\n",
        "1. Assign the string ***Facebook's new motto is \"move fast with stable infra.\"*** to a\n",
        "variable named **motto**.\n",
        "  * Notice there's a **.** character at the end of ***Facebook's new motto is \"move fast with stable infra.\"*** — you'll need to include the **.** character in your answer.\n",
        "\n",
        "2. Display the variable **motto** using **`print()`** — displaying **motto** is required for answer checking.\n",
        "\n",
        "\n",
        "\n",
        "\n",
        "\n"
      ]
    },
    {
      "cell_type": "code",
      "metadata": {
        "colab": {
          "base_uri": "https://localhost:8080/"
        },
        "id": "m0NatYdUDeSa",
        "outputId": "581600bd-aae3-4f09-d8a9-c92805550ffc"
      },
      "source": [
        "motto = 'Facebook\\'s new motto is \"move fast with stable infra.\"'\n",
        "print(motto)"
      ],
      "execution_count": 2,
      "outputs": [
        {
          "output_type": "stream",
          "text": [
            "Facebook's new motto is \"move fast with stable infra.\"\n"
          ],
          "name": "stdout"
        }
      ]
    },
    {
      "cell_type": "markdown",
      "metadata": {
        "id": "lvRKTidhEcQ9"
      },
      "source": [
        "# **Q3**"
      ]
    },
    {
      "cell_type": "markdown",
      "metadata": {
        "id": "mpIHw9ThEnCc"
      },
      "source": [
        "1. Assign the string ***Facebook's rating is*** to a variable named **facebook**.\n",
        "2. Assign the float **3.5** to a variable named **fb_rating**.\n",
        "3. Convert **fb_rating** from a float to a string using the **`str()`** command, and assign the converted value to a new variable named **fb_rating_str**.\n",
        "4. Concatenate the strings stored in **facebook** and **fb_rating_str** to form the string ***Facebook's rating is 3.5***.\n",
        "  * Assign the concatenated string to a variable named **fb**.\n",
        "  * You'll need to add a space character between ***Facebook's rating is*** and **3.5** to avoid ending up with the string ***Facebook's rating is3.5***.\n",
        "5. Display the **fb** variable using **`print()`** — this is required for answer checking"
      ]
    },
    {
      "cell_type": "code",
      "metadata": {
        "colab": {
          "base_uri": "https://localhost:8080/"
        },
        "id": "BkmU9t6HG7-E",
        "outputId": "baa94548-d3c5-4fcb-b99f-ae5fee4a52bf"
      },
      "source": [
        "facebook = \"Facebook's rating is\"\n",
        "fb_rating = 3.5\n",
        "fb_rating_str = str(fb_rating)\n",
        "fb = facebook + ' ' + fb_rating_str\n",
        "print(fb)"
      ],
      "execution_count": 3,
      "outputs": [
        {
          "output_type": "stream",
          "text": [
            "Facebook's rating is 3.5\n"
          ],
          "name": "stdout"
        }
      ]
    }
  ]
}